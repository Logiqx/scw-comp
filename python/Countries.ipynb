{
 "cells": [
  {
   "cell_type": "markdown",
   "metadata": {},
   "source": [
    "# Senior Cubers Worldwide - Weekly Competition\n",
    "\n",
    "Created by Michael George (AKA Logiqx)\n",
    "\n",
    "Website: https://logiqx.github.io/scw-comp/"
   ]
  },
  {
   "cell_type": "markdown",
   "metadata": {},
   "source": [
    "## Initialisation\n",
    "\n",
    "Basic approach to determine the project directory"
   ]
  },
  {
   "cell_type": "code",
   "execution_count": 1,
   "metadata": {},
   "outputs": [],
   "source": [
    "import os, sys\n",
    "\n",
    "import csv, json\n",
    "\n",
    "from Common_Functions import *\n",
    "\n",
    "projdir = os.path.realpath(os.path.join(sys.path[0], '..'))"
   ]
  },
  {
   "cell_type": "markdown",
   "metadata": {},
   "source": [
    "## Generic Class\n",
    "\n",
    "Generic class to ensure that all custom classes are printable"
   ]
  },
  {
   "cell_type": "code",
   "execution_count": 2,
   "metadata": {},
   "outputs": [],
   "source": [
    "class Printable:\n",
    "    def __repr__(self):\n",
    "        return str(self.__class__) + \": \" + str(self.__dict__)\n",
    "\n",
    "    def __str__(self):\n",
    "        return str(self.__class__) + \": \" + str(self.__dict__)"
   ]
  },
  {
   "cell_type": "markdown",
   "metadata": {},
   "source": [
    "## Person Class\n",
    "\n",
    "Results for a single person "
   ]
  },
  {
   "cell_type": "code",
   "execution_count": 3,
   "metadata": {},
   "outputs": [],
   "source": [
    "import unicodedata\n",
    "\n",
    "defaultSkipDate = '9999-12-31'\n",
    "\n",
    "class Person(Printable):\n",
    "    def __init__(self, id, age, name = None, country = \"???\", wcaId = None):\n",
    "        self.id = id\n",
    "        self.age = age\n",
    "        self.name = name\n",
    "        self.country = country\n",
    "        self.aliases = []\n",
    "        self.wcaId = wcaId\n",
    "        self.skipDraw = defaultSkipDate\n",
    "        self.events = {}\n",
    "\n"
   ]
  },
  {
   "cell_type": "markdown",
   "metadata": {},
   "source": [
    "## Save Persons\n",
    "\n",
    "Save updated persons in JSON format"
   ]
  },
  {
   "cell_type": "code",
   "execution_count": 4,
   "metadata": {},
   "outputs": [],
   "source": [
    "def savePersons():\n",
    "    # Remove redundant information from persons\n",
    "    for person in persons:\n",
    "        if isinstance(persons[person].age, int):\n",
    "            persons[person].age = formatAge(persons[person].age)\n",
    "\n",
    "        try:\n",
    "            if len(persons[person].aliases) == 0:\n",
    "                del(persons[person].aliases)\n",
    "        except AttributeError:\n",
    "            pass\n",
    "\n",
    "        try:\n",
    "            if persons[person].skipDraw == defaultSkipDate:\n",
    "                del(persons[person].skipDraw)\n",
    "        except AttributeError:\n",
    "            pass\n",
    "\n",
    "        try:\n",
    "            if persons[person].country is None:\n",
    "                del(persons[person].country)\n",
    "        except AttributeError:\n",
    "            pass\n",
    "\n",
    "        try:\n",
    "            if persons[person].wcaId is None:\n",
    "                del(persons[person].wcaId)\n",
    "        except AttributeError:\n",
    "            pass\n",
    "\n",
    "        try:\n",
    "            del(persons[person].name)\n",
    "        except AttributeError:\n",
    "            pass\n",
    "\n",
    "        try:\n",
    "            del(persons[person].events)\n",
    "        except AttributeError:\n",
    "            pass\n",
    "\n",
    "    # Save persons\n",
    "    outFile = os.path.join(projdir, 'data', 'persons.json')\n",
    "    with open(outFile, 'w') as f:\n",
    "        jsonDump = json.dumps(persons, default=lambda o: o.__dict__, ensure_ascii=False, indent=2, sort_keys=True)\n",
    "        f.write(jsonDump)"
   ]
  },
  {
   "cell_type": "markdown",
   "metadata": {},
   "source": [
    "## Main Code\n",
    "\n",
    "Process all competitions"
   ]
  },
  {
   "cell_type": "code",
   "execution_count": 8,
   "metadata": {},
   "outputs": [
    {
     "name": "stdout",
     "output_type": "stream",
     "text": [
      "person Adam Robson (United Kingdom) does not have a WCA ID\n",
      "person Donna Leiber (United States) does not have a WCA ID\n",
      "person Greg Simmons (United Kingdom) does not have a WCA ID\n",
      "person Isak Majer (Netherlands) does not have a WCA ID\n",
      "person Jamie Brady (Deansie) (United Kingdom) does not have a WCA ID\n",
      "person Jan Adams-Fielding (United Kingdom) does not have a WCA ID\n",
      "person Jean van den Bergh (Netherlands) does not have a WCA ID\n",
      "person Jo Cocco (United Kingdom) does not have a WCA ID\n",
      "person John Neo Stanley (United Kingdom) does not have a WCA ID\n",
      "person Joshua M. Woodward (United States) does not have a WCA ID\n",
      "person Leo Arroyo (Spain) does not have a WCA ID\n",
      "person Marcel Balzer (Germany) does not have a WCA ID\n",
      "person Michael Policastro (United States) does not have a WCA ID\n",
      "person Nick Agatyn (Australia) does not have a WCA ID\n",
      "person Peyton Blevins (United States) does not have a WCA ID\n",
      "person Raimon Schaap (Netherlands) does not have a WCA ID\n",
      "person Robert Summerfield (United Kingdom) does not have a WCA ID\n",
      "person Scott Knight (United Kingdom) does not have a WCA ID\n",
      "person Stew Alla (United Kingdom) does not have a WCA ID\n",
      "person Timothy Salay (United States) does not have a WCA ID\n",
      "person Will Lambert (United Kingdom) does not have a WCA ID\n",
      "person Zack Âû Black (United Kingdom) does not have a WCA ID\n",
      "person Александр Гилка (Ukraine) does not have a WCA ID\n"
     ]
    },
    {
     "ename": "FileNotFoundError",
     "evalue": "[Errno 2] No such file or directory: '/home/jovyan/work/scw-comp/data/person_countries.csv'",
     "output_type": "error",
     "traceback": [
      "\u001b[0;31m---------------------------------------------------------------------------\u001b[0m",
      "\u001b[0;31mFileNotFoundError\u001b[0m                         Traceback (most recent call last)",
      "\u001b[0;32m<ipython-input-8-769ca52dc6c7>\u001b[0m in \u001b[0;36m<module>\u001b[0;34m\u001b[0m\n\u001b[1;32m     32\u001b[0m \u001b[0;34m\u001b[0m\u001b[0m\n\u001b[1;32m     33\u001b[0m \u001b[0mfn\u001b[0m \u001b[0;34m=\u001b[0m \u001b[0mos\u001b[0m\u001b[0;34m.\u001b[0m\u001b[0mpath\u001b[0m\u001b[0;34m.\u001b[0m\u001b[0mjoin\u001b[0m\u001b[0;34m(\u001b[0m\u001b[0mprojdir\u001b[0m\u001b[0;34m,\u001b[0m \u001b[0;34m'data'\u001b[0m\u001b[0;34m,\u001b[0m \u001b[0;34m'person_countries.csv'\u001b[0m\u001b[0;34m)\u001b[0m\u001b[0;34m\u001b[0m\u001b[0;34m\u001b[0m\u001b[0m\n\u001b[0;32m---> 34\u001b[0;31m \u001b[0;32mwith\u001b[0m \u001b[0mopen\u001b[0m\u001b[0;34m(\u001b[0m\u001b[0mfn\u001b[0m\u001b[0;34m,\u001b[0m \u001b[0;34m'r'\u001b[0m\u001b[0;34m)\u001b[0m \u001b[0;32mas\u001b[0m \u001b[0mf\u001b[0m\u001b[0;34m:\u001b[0m\u001b[0;34m\u001b[0m\u001b[0;34m\u001b[0m\u001b[0m\n\u001b[0m\u001b[1;32m     35\u001b[0m     \u001b[0mreader\u001b[0m \u001b[0;34m=\u001b[0m \u001b[0mcsv\u001b[0m\u001b[0;34m.\u001b[0m\u001b[0mreader\u001b[0m\u001b[0;34m(\u001b[0m\u001b[0mf\u001b[0m\u001b[0;34m,\u001b[0m \u001b[0mdelimiter\u001b[0m\u001b[0;34m=\u001b[0m\u001b[0;34m','\u001b[0m\u001b[0;34m)\u001b[0m\u001b[0;34m\u001b[0m\u001b[0;34m\u001b[0m\u001b[0m\n\u001b[1;32m     36\u001b[0m     \u001b[0mnext\u001b[0m\u001b[0;34m(\u001b[0m\u001b[0mreader\u001b[0m\u001b[0;34m)\u001b[0m\u001b[0;34m\u001b[0m\u001b[0;34m\u001b[0m\u001b[0m\n",
      "\u001b[0;31mFileNotFoundError\u001b[0m: [Errno 2] No such file or directory: '/home/jovyan/work/scw-comp/data/person_countries.csv'"
     ]
    }
   ],
   "source": [
    "# Read existing persons from JSON\n",
    "\n",
    "def as_person(d):\n",
    "    if 'id' in d:\n",
    "        person = Person(d['id'], interpretAge(d['age']))\n",
    "        if 'country' in d:\n",
    "            person.country = d['country']\n",
    "        if 'wcaId' in d:\n",
    "            person.wcaId = d['wcaId']\n",
    "        if 'aliases' in d:\n",
    "            person.aliases = d['aliases']\n",
    "        if 'skipDraw' in d:\n",
    "            person.skipDraw = d['skipDraw']\n",
    "        return person\n",
    "    else:\n",
    "        return d\n",
    "\n",
    "fn = os.path.join(projdir, 'data', 'persons.json')\n",
    "if os.path.exists(fn):\n",
    "    with open(fn) as f:\n",
    "        jsonTxt = f.read()\n",
    "        persons = json.loads(jsonTxt, object_hook = as_person)\n",
    "\n",
    "        for person in persons:\n",
    "            persons[person].name = person\n",
    "            if persons[person].wcaId is None:\n",
    "                print(f\"person {person} ({persons[person].country}) does not have a WCA ID\")\n",
    "else:\n",
    "    persons = {}\n",
    "\n",
    "# Patch country\n",
    "\n",
    "fn = os.path.join(projdir, 'data', 'person_countries.csv')\n",
    "with open(fn, 'r') as f:\n",
    "    reader = csv.reader(f, delimiter=',')\n",
    "    next(reader)\n",
    "    for row in reader:\n",
    "        wcaId, country = row\n",
    "        for person in persons:\n",
    "            if persons[person].wcaId == wcaId:\n",
    "                persons[person].country = country"
   ]
  },
  {
   "cell_type": "code",
   "execution_count": null,
   "metadata": {},
   "outputs": [],
   "source": [
    "# Save data\n",
    "savePersons()"
   ]
  },
  {
   "cell_type": "markdown",
   "metadata": {
    "collapsed": true
   },
   "source": [
    "## All Done!"
   ]
  }
 ],
 "metadata": {
  "kernelspec": {
   "display_name": "Python 3",
   "language": "python",
   "name": "python3"
  },
  "language_info": {
   "codemirror_mode": {
    "name": "ipython",
    "version": 3
   },
   "file_extension": ".py",
   "mimetype": "text/x-python",
   "name": "python",
   "nbconvert_exporter": "python",
   "pygments_lexer": "ipython3",
   "version": "3.7.3"
  }
 },
 "nbformat": 4,
 "nbformat_minor": 1
}
