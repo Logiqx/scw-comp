{
 "cells": [
  {
   "cell_type": "markdown",
   "metadata": {},
   "source": [
    "# Senior Cubers Worldwide - Weekly Competition\n",
    "\n",
    "Created by Michael George (AKA Logiqx)\n",
    "\n",
    "Website: https://logiqx.github.io/scw-comp/"
   ]
  },
  {
   "cell_type": "code",
   "execution_count": 1,
   "metadata": {},
   "outputs": [],
   "source": [
    "import unittest"
   ]
  },
  {
   "cell_type": "markdown",
   "metadata": {},
   "source": [
    "## Formatting Functions\n",
    "\n",
    "Functions to convert results to and from seconds or display an age category"
   ]
  },
  {
   "cell_type": "code",
   "execution_count": 2,
   "metadata": {},
   "outputs": [],
   "source": [
    "import re\n",
    "import math\n",
    "\n",
    "def numSeconds(value, truncate = True):\n",
    "    '''Convert float or string to number of seconds (truncated to nearest 100th) - e.g. 1:05.319 returns 65.31'''\n",
    "    \n",
    "    # String result (e.g. MM:SS.cc, SS.cc, nn, DNF or DNS)\n",
    "    if isinstance(value, str):\n",
    "        try:\n",
    "            # Some people may have used commas instead of dots\n",
    "            value = value.replace(',', '.')\n",
    "\n",
    "            # Check that the result is either a time, DNF or DNS\n",
    "            resultPattern = re.compile('^([1-7][0-9]|80)$|^([0-5]?[0-9]:[0-5]|[0-5])?[0-9]\\.[0-9][0-9]$|^DNF$|^DNS$')\n",
    "            if not resultPattern.match(value):\n",
    "                raise ValueError(value, type(value))\n",
    "\n",
    "            # MM:SS.cc\n",
    "            if ':' in value:\n",
    "                parts = value.split(':')\n",
    "                value = int(parts[0]) * 60 + float(parts[1])\n",
    "            # SS.cc\n",
    "            elif '.' in value:\n",
    "                value = float(value)\n",
    "            # DNF\n",
    "            elif value == 'DNF':\n",
    "                return -1\n",
    "            # DNS\n",
    "            elif value == 'DNS':\n",
    "                return -2\n",
    "            # Assume nn - i.e. FMC\n",
    "            else:\n",
    "                return int(value)\n",
    "        except:\n",
    "            raise\n",
    "    \n",
    "    # Convoluted approach is required to handle imprecision of floating point arithmetic\n",
    "    if truncate:\n",
    "        return math.trunc(round(value * 1000) / 10) / 100\n",
    "    else:\n",
    "        return round(value, 2)"
   ]
  },
  {
   "cell_type": "code",
   "execution_count": 3,
   "metadata": {},
   "outputs": [],
   "source": [
    "class TestNumSeconds(unittest.TestCase):\n",
    "    '''Class to test numSeconds function'''   \n",
    "\n",
    "    def test_simple_nn(self):\n",
    "        '''Test simple numbers - e.g. FMC single'''\n",
    "        self.assertEqual(numSeconds('20'), 20)\n",
    "\n",
    "    def test_simple_sscc(self):\n",
    "        '''Test simple times - ss.cc'''\n",
    "        self.assertEqual(numSeconds('12.34'), 12.34)\n",
    "\n",
    "    def test_simple_mmsscc(self):\n",
    "        '''Test simple times - mm:ss.cc'''\n",
    "        self.assertEqual(numSeconds('1:02.34'), 62.34)\n",
    "\n",
    "    def test_problematic_mmsscc(self):\n",
    "        '''Test problematic times (imprecision of floating point arithmetic) - mm:ss.cc'''\n",
    "        self.assertEqual(numSeconds('5:25.09'), 325.09)\n",
    "        self.assertEqual(numSeconds('1:40.23'), 100.23)\n",
    "        self.assertEqual(numSeconds('2:08.70'), 128.70)\n",
    "\n",
    "    def test_simple_int(self):\n",
    "        '''Test simple numbers - e.g. FMC single'''\n",
    "        self.assertEqual(numSeconds(20), 20)\n",
    "\n",
    "    def test_simple_float(self):\n",
    "        '''Test simple times - mm:ss.cc'''\n",
    "        self.assertEqual(numSeconds(62.344), 62.34)\n",
    "        self.assertEqual(numSeconds(62.345), 62.34)\n",
    "        self.assertEqual(numSeconds(62.346), 62.34)\n",
    "\n",
    "    def test_problematic_float(self):\n",
    "        '''Test problematic times (imprecision of floating point arithmetic) - mm:ss.cc'''\n",
    "        self.assertEqual(numSeconds(325.09), 325.09)\n",
    "        self.assertEqual(numSeconds(100.23), 100.23)\n",
    "        self.assertEqual(numSeconds(128.70), 128.70)\n",
    "\n",
    "    def test_dnf(self):\n",
    "        '''Test DNF code'''\n",
    "        self.assertEqual(numSeconds('DNF'), -1)\n",
    "\n",
    "    def test_dns(self):\n",
    "        '''Test DNS code'''\n",
    "        self.assertEqual(numSeconds('DNS'), -2)\n",
    "\n",
    "    def test_xxx(self):\n",
    "        '''Test unsupported code'''\n",
    "        with self.assertRaises(ValueError):\n",
    "            numSeconds('XXX')"
   ]
  },
  {
   "cell_type": "code",
   "execution_count": 4,
   "metadata": {},
   "outputs": [],
   "source": [
    "def formatResult(value, eventName = None, highlight = ''):\n",
    "    '''Convert number of seconds to displayable time - e.g. 65.31 returns 1:05.31'''\n",
    "    \n",
    "    if value is not None:\n",
    "        if value > 0:\n",
    "            if eventName == '333fm':\n",
    "                return '{}{:d}{}'.format(highlight, int(value), highlight)\n",
    "            else:\n",
    "                if value >= 60:\n",
    "                    return '{}{:d}:{:05.2f}{}'.format(highlight, int(value // 60), value - int(value // 60) * 60, highlight)\n",
    "                else:\n",
    "                    return '{}{:.2f}{}'.format(highlight, value, highlight)\n",
    "        else:\n",
    "            if value == -1:\n",
    "                return 'DNF'\n",
    "            elif value == -2:\n",
    "                return 'DNS'\n",
    "            else:\n",
    "                raise ValueError(value, type(value))\n",
    "    else:\n",
    "        raise ValueError(value)"
   ]
  },
  {
   "cell_type": "code",
   "execution_count": 5,
   "metadata": {},
   "outputs": [],
   "source": [
    "class TestFormatResult(unittest.TestCase):\n",
    "    '''Class to test formatResult function'''   \n",
    "\n",
    "    def test_fm(self):\n",
    "        '''Test simple numbers - e.g. FMC single'''\n",
    "        self.assertEqual(formatResult(20, eventName = '333fm'), '20')\n",
    "\n",
    "    def test_time(self):\n",
    "        '''Test simple times without highlighting - mm:ss.cc'''\n",
    "        self.assertEqual(formatResult(1.23), '1.23')\n",
    "        self.assertEqual(formatResult(12.34), '12.34')\n",
    "        self.assertEqual(formatResult(62.34), '1:02.34')\n",
    "\n",
    "    def test_highlight(self):\n",
    "        '''Test simple times with highlighting - mm:ss.cc'''\n",
    "        self.assertEqual(formatResult(1.23, highlight = '*'), '*1.23*')\n",
    "        self.assertEqual(formatResult(12.34, highlight = '*'), '*12.34*')\n",
    "        self.assertEqual(formatResult(62.34, highlight = '*'), '*1:02.34*')\n",
    "\n",
    "    def test_dnf(self):\n",
    "        '''Test DNF code'''\n",
    "        self.assertEqual(formatResult(-1), 'DNF')\n",
    "\n",
    "    def test_dns(self):\n",
    "        '''Test DNS code'''\n",
    "        self.assertEqual(formatResult(-2), 'DNS')\n",
    "\n",
    "    def test_zero(self):\n",
    "        '''Test Zero'''\n",
    "        with self.assertRaises(ValueError):\n",
    "            formatResult(0)\n",
    "\n",
    "    def test_none(self):\n",
    "        '''Test None'''\n",
    "        with self.assertRaises(ValueError):\n",
    "            formatResult(None)"
   ]
  },
  {
   "cell_type": "markdown",
   "metadata": {},
   "source": [
    "## Run Unit Tests"
   ]
  },
  {
   "cell_type": "code",
   "execution_count": 6,
   "metadata": {},
   "outputs": [
    {
     "name": "stderr",
     "output_type": "stream",
     "text": [
      ".................\n",
      "----------------------------------------------------------------------\n",
      "Ran 17 tests in 0.033s\n",
      "\n",
      "OK\n"
     ]
    }
   ],
   "source": [
    "if __name__ == '__main__':\n",
    "    unittest.main(argv=['first-arg-is-ignored'], exit=False)"
   ]
  },
  {
   "cell_type": "code",
   "execution_count": null,
   "metadata": {},
   "outputs": [],
   "source": []
  }
 ],
 "metadata": {
  "kernelspec": {
   "display_name": "Python 3",
   "language": "python",
   "name": "python3"
  },
  "language_info": {
   "codemirror_mode": {
    "name": "ipython",
    "version": 3
   },
   "file_extension": ".py",
   "mimetype": "text/x-python",
   "name": "python",
   "nbconvert_exporter": "python",
   "pygments_lexer": "ipython3",
   "version": "3.7.3"
  }
 },
 "nbformat": 4,
 "nbformat_minor": 2
}
