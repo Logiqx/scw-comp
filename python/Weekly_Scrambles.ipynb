{
 "cells": [
  {
   "cell_type": "markdown",
   "metadata": {},
   "source": [
    "# Senior Cubers Worldwide - Weekly Scrambles\n",
    "\n",
    "Created by Michael George (AKA Logiqx)\n",
    "\n",
    "Website: https://logiqx.github.io/wca-ipy/"
   ]
  },
  {
   "cell_type": "markdown",
   "metadata": {},
   "source": [
    "## Initialisation\n",
    "\n",
    "Basic approach to determine the project directory"
   ]
  },
  {
   "cell_type": "code",
   "execution_count": 1,
   "metadata": {},
   "outputs": [],
   "source": [
    "import os, sys\n",
    "\n",
    "projdir = os.path.realpath(os.path.join(sys.path[0], '..'))"
   ]
  },
  {
   "cell_type": "markdown",
   "metadata": {},
   "source": [
    "## Formatting Functions\n",
    "\n",
    "Functions to convert results to and from seconds or display an age category"
   ]
  },
  {
   "cell_type": "code",
   "execution_count": 2,
   "metadata": {},
   "outputs": [],
   "source": [
    "events = \\\n",
    "{\n",
    "    '2x2x2': '2x2x2 Cube Round 1',\n",
    "    '3BLD': '3x3x3 Blindfolded Round 1',\n",
    "    '4BLD': '4x4x4 Cube Blindfolded Round 1',\n",
    "    '5BLD': '5x5x5 Cube Blindfolded Round 1',\n",
    "    '3x3x3': '3x3x3 Cube Round 1',\n",
    "    'FMC': '3x3x3 Fewest Moves Round 1',\n",
    "    'OH': '3x3x3 One-Handed Round 1',\n",
    "    'Mega': 'Megaminx Round 1',\n",
    "    '4x4x4': '4x4x4 Cube Round 1',\n",
    "    '5x5x5': '5x5x5 Cube Round 1',\n",
    "    '6x6x6': '6x6x6 Cube Round 1',\n",
    "    '7x7x7': '7x7x7 Cube Round 1'\n",
    "}\n",
    "\n",
    "competitions = \\\n",
    "{\n",
    "    '3x3x3+': ['3x3x3', 'OH', '2x2x2', 'Mega'],\n",
    "    '4x4x4+': ['4x4x4', '5x5x5', '6x6x6', '7x7x7'],\n",
    "    '3BLD': ['3BLD', '4BLD', '5BLD'],\n",
    "    'FMC': ['FMC']\n",
    "}"
   ]
  },
  {
   "cell_type": "markdown",
   "metadata": {},
   "source": [
    "## Main Code\n",
    "\n",
    "Process all competitions"
   ]
  },
  {
   "cell_type": "code",
   "execution_count": 3,
   "metadata": {},
   "outputs": [],
   "source": [
    "import time\n",
    "\n",
    "pc1 = time.perf_counter()"
   ]
  },
  {
   "cell_type": "code",
   "execution_count": 4,
   "metadata": {},
   "outputs": [],
   "source": [
    "from shutil import copyfile\n",
    "import glob"
   ]
  },
  {
   "cell_type": "code",
   "execution_count": 5,
   "metadata": {},
   "outputs": [],
   "source": [
    "def copyToDocs(srcDir, dstDir, compDate, fileExt):  \n",
    "    for eventName in events:\n",
    "        src = os.path.join(srcDir, events[eventName] + fileExt)\n",
    "        \n",
    "        if os.path.exists(src):\n",
    "            tmpDir = os.path.join(dstDir, eventName.lower(), 'scrambles')\n",
    "            if not os.path.exists(tmpDir):\n",
    "                os.makedirs(tmpDir)\n",
    "                \n",
    "            dst = os.path.join(tmpDir, compDate + fileExt)\n",
    "            copyfile(src, dst)\n",
    "\n",
    "datePattern = 'Scrambles for [0-9][0-9][0-9][0-9]-[0-9][0-9]-[0-9][0-9]'\n",
    "\n",
    "for compScrambles in glob.glob(os.path.join(projdir, 'scrambles', datePattern)):\n",
    "    compDate = os.path.basename(compScrambles).split()[-1]\n",
    "    dstDir = os.path.join(projdir, 'docs')\n",
    "    \n",
    "    srcDir = os.path.join(compScrambles, 'Interchange', 'txt')\n",
    "    copyToDocs(srcDir, dstDir, compDate, '.txt')\n",
    "\n",
    "    srcDir = os.path.join(compScrambles, 'Printing', 'Scramble Sets')\n",
    "    copyToDocs(srcDir, dstDir, compDate, '.pdf')"
   ]
  },
  {
   "cell_type": "code",
   "execution_count": 6,
   "metadata": {},
   "outputs": [],
   "source": [
    "def copyToBlurb(srcDir, dstDir, compDate, fileExt):\n",
    "    for compName in competitions:\n",
    "        for eventName in competitions[compName]:\n",
    "            src = os.path.join(srcDir, events[eventName] + fileExt)\n",
    "\n",
    "            if os.path.exists(src):\n",
    "                tmpDir = os.path.join(dstDir, compDate, compName.lower())\n",
    "                if not os.path.exists(tmpDir):\n",
    "                    os.makedirs(tmpDir)\n",
    "\n",
    "                dst = os.path.join(tmpDir, eventName.lower() + fileExt)\n",
    "                copyfile(src, dst)\n",
    "\n",
    "datePattern = 'Scrambles for [0-9][0-9][0-9][0-9]-[0-9][0-9]-[0-9][0-9]'\n",
    "\n",
    "for compScrambles in glob.glob(os.path.join(projdir, 'scrambles', datePattern)):\n",
    "    compDate = os.path.basename(compScrambles).split()[-1]\n",
    "    dstDir = os.path.join(projdir, 'blurb')\n",
    "    \n",
    "    srcDir = os.path.join(compScrambles, 'Interchange', 'txt')\n",
    "    copyToBlurb(srcDir, dstDir, compDate, '.txt')\n",
    "\n",
    "    srcDir = os.path.join(compScrambles, 'Printing', 'Scramble Sets')\n",
    "    copyToBlurb(srcDir, dstDir, compDate, '.png')"
   ]
  },
  {
   "cell_type": "code",
   "execution_count": 7,
   "metadata": {},
   "outputs": [
    {
     "name": "stdout",
     "output_type": "stream",
     "text": [
      "Scrambles completed in 1.23 seconds\n"
     ]
    }
   ],
   "source": [
    "pc2 = time.perf_counter()\n",
    "print(\"Scrambles completed in %0.2f seconds\" % (pc2 - pc1))"
   ]
  },
  {
   "cell_type": "markdown",
   "metadata": {
    "collapsed": true
   },
   "source": [
    "## All Done!"
   ]
  }
 ],
 "metadata": {
  "kernelspec": {
   "display_name": "Python 3",
   "language": "python",
   "name": "python3"
  },
  "language_info": {
   "codemirror_mode": {
    "name": "ipython",
    "version": 3
   },
   "file_extension": ".py",
   "mimetype": "text/x-python",
   "name": "python",
   "nbconvert_exporter": "python",
   "pygments_lexer": "ipython3",
   "version": "3.7.3"
  }
 },
 "nbformat": 4,
 "nbformat_minor": 1
}
