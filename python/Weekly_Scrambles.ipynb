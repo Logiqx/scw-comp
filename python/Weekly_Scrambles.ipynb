{
 "cells": [
  {
   "cell_type": "markdown",
   "metadata": {},
   "source": [
    "# Senior Cubers Worldwide - Weekly Scrambles\n",
    "\n",
    "Created by Michael George (AKA Logiqx)\n",
    "\n",
    "Website: https://logiqx.github.io/wca-ipy/"
   ]
  },
  {
   "cell_type": "markdown",
   "metadata": {},
   "source": [
    "## Initialisation\n",
    "\n",
    "Basic approach to determine the project directory"
   ]
  },
  {
   "cell_type": "code",
   "execution_count": 1,
   "metadata": {},
   "outputs": [],
   "source": [
    "import os, sys\n",
    "\n",
    "projdir = os.path.realpath(os.path.join(sys.path[0], '..'))"
   ]
  },
  {
   "cell_type": "markdown",
   "metadata": {},
   "source": [
    "## Events\n",
    "\n",
    "WCA events / puzzles and Facebook events (competitions)"
   ]
  },
  {
   "cell_type": "code",
   "execution_count": 2,
   "metadata": {},
   "outputs": [],
   "source": [
    "title = '[Senior Cubers Worldwide - Weekly Competition](/scw-comp/scrambles/)'\n",
    "\n",
    "eventMaps = \\\n",
    "{\n",
    "    '333': '3x3x3 Cube Round 1',\n",
    "    '222': '2x2x2 Cube Round 1',\n",
    "    '333oh': '3x3x3 One-Handed Round 1',\n",
    "    'minx': 'Megaminx Round 1',\n",
    "\n",
    "    '444': '4x4x4 Cube Round 1',\n",
    "    '555': '5x5x5 Cube Round 1',\n",
    "    '666': '6x6x6 Cube Round 1',\n",
    "    '777': '7x7x7 Cube Round 1',\n",
    "\n",
    "    'pyram': 'Pyraminx Round 1',\n",
    "    'skewb': 'Skewb Round 1',\n",
    "    'sq1': 'Square-1 Round 1',\n",
    "    'clock': 'Clock Round 1',\n",
    "\n",
    "    '333bf': '3x3x3 Blindfolded Round 1',\n",
    "    '444bf': '4x4x4 Cube Blindfolded Round 1',\n",
    "    '555bf': '5x5x5 Cube Blindfolded Round 1',\n",
    "    '333fm': '3x3x3 Fewest Moves Round 1'\n",
    "}\n",
    "\n",
    "competitions = \\\n",
    "{\n",
    "    '333+': ['333', '222', '333oh', 'minx'],\n",
    "    '444+': ['444', '555', '666', '777'],\n",
    "    'short': ['pyram', 'skewb', 'sq1', 'clock'],\n",
    "    'bld': ['333bf', '444bf', '555bf'],\n",
    "    'fmc': ['333fm']\n",
    "}"
   ]
  },
  {
   "cell_type": "markdown",
   "metadata": {},
   "source": [
    "## Main Code\n",
    "\n",
    "Process all weeks present in the \"scrambles\" folder"
   ]
  },
  {
   "cell_type": "code",
   "execution_count": 3,
   "metadata": {},
   "outputs": [],
   "source": [
    "import time\n",
    "\n",
    "pc1 = time.perf_counter()"
   ]
  },
  {
   "cell_type": "code",
   "execution_count": 4,
   "metadata": {},
   "outputs": [],
   "source": [
    "from Common_Functions import *\n",
    "from shutil import copyfile\n",
    "import glob"
   ]
  },
  {
   "cell_type": "code",
   "execution_count": 5,
   "metadata": {},
   "outputs": [],
   "source": [
    "def copyToDocs(srcDir, dstDir, fileExt):  \n",
    "    for eventName in eventNames:\n",
    "        src = os.path.join(srcDir, eventMaps[eventName] + fileExt)\n",
    "        \n",
    "        if os.path.exists(src):\n",
    "            if not os.path.exists(dstDir):\n",
    "                os.makedirs(dstDir)\n",
    "                \n",
    "            dst = os.path.join(dstDir, eventName + fileExt)\n",
    "            copyfile(src, dst)\n",
    "\n",
    "datePattern = 'Scrambles for [0-9][0-9][0-9][0-9]-[0-9][0-9]-[0-9][0-9]'\n",
    "\n",
    "for compScrambles in glob.glob(os.path.join(projdir, 'scrambles', datePattern)):\n",
    "    compDate = os.path.basename(compScrambles).split()[-1]\n",
    "    dstDir = os.path.join(projdir, 'docs', 'scrambles', compDate)\n",
    "    \n",
    "    srcDir = os.path.join(compScrambles, 'Interchange', 'txt')\n",
    "    copyToDocs(srcDir, dstDir, '.txt')\n",
    "\n",
    "    srcDir = os.path.join(compScrambles, 'Printing', 'Scramble Sets')\n",
    "    copyToDocs(srcDir, dstDir, '.pdf')"
   ]
  },
  {
   "cell_type": "code",
   "execution_count": 6,
   "metadata": {},
   "outputs": [],
   "source": [
    "def copyToBlurb(srcDir, dstDir, fileExt):\n",
    "    for compName in competitions:\n",
    "        for eventName in competitions[compName]:\n",
    "            src = os.path.join(srcDir, eventMaps[eventName] + fileExt)\n",
    "\n",
    "            if os.path.exists(src):\n",
    "                tmpDir = os.path.join(dstDir, compName)\n",
    "                if not os.path.exists(tmpDir):\n",
    "                    os.makedirs(tmpDir)\n",
    "\n",
    "                dst = os.path.join(tmpDir, eventName + fileExt)\n",
    "                copyfile(src, dst)\n",
    "\n",
    "datePattern = 'Scrambles for [0-9][0-9][0-9][0-9]-[0-9][0-9]-[0-9][0-9]'\n",
    "\n",
    "for compScrambles in glob.glob(os.path.join(projdir, 'scrambles', datePattern)):\n",
    "    compDate = os.path.basename(compScrambles).split()[-1]\n",
    "    dstDir = os.path.join(projdir, 'blurb', compDate)\n",
    "    \n",
    "    srcDir = os.path.join(compScrambles, 'Interchange', 'txt')\n",
    "    copyToBlurb(srcDir, dstDir, '.txt')\n",
    "\n",
    "    srcDir = os.path.join(compScrambles, 'Printing', 'Scramble Sets')\n",
    "    copyToBlurb(srcDir, dstDir, '.png')"
   ]
  },
  {
   "cell_type": "code",
   "execution_count": 7,
   "metadata": {},
   "outputs": [],
   "source": [
    "datePattern = '[0-9][0-9][0-9][0-9]-[0-9][0-9]-[0-9][0-9]'\n",
    "\n",
    "def listScrambles(f, compDir):\n",
    "    compDate = os.path.basename(compDir)\n",
    "\n",
    "    eventList = []\n",
    "    for eventName in eventNames:\n",
    "        pdf = os.path.join(compDir, eventName + '.pdf')\n",
    "        if os.path.exists(pdf):\n",
    "            eventList.append('[{}]({}/{}.pdf)'.format(eventTitles[eventName][2], compDate, eventName))\n",
    "\n",
    "    if len(eventList) > 0:\n",
    "        f.write('{} - {}\\n\\n'.format(compDate, ', '.join(eventList)))\n",
    "\n",
    "    \n",
    "outFile = os.path.join(projdir, 'docs', 'scrambles', 'README.md')\n",
    "with open(outFile, 'w') as f:\n",
    "\n",
    "    compDirs = sorted(glob.glob(os.path.join(projdir, 'docs', 'scrambles', datePattern)), reverse = True)\n",
    "\n",
    "    f.write('## {}\\n'.format(title))\n",
    "    \n",
    "    f.write('Text scrambles to copy/paste into csTimer can be found on [GitHub]' +\n",
    "            '(https://github.com/Logiqx/scw-comp/tree/master/docs/scrambles).\\n\\n')\n",
    "    \n",
    "    f.write('### Scramble Sheets\\n')\n",
    "\n",
    "    f.write('#### Latest Competition\\n')\n",
    "    listScrambles(f, compDirs[0])\n",
    "\n",
    "    f.write('#### Past Competitions\\n')\n",
    "    for compDir in compDirs[1:]:\n",
    "        listScrambles(f, compDir)     \n",
    "            \n",
    "    f.write('#### Project Code\\n')\n",
    "    url = 'https://github.com/Logiqx/scw-comp'\n",
    "    f.write('Python code for these reports can be found at [{}]({})\\n'.format(url, url))\n",
    "\n",
    "    writeGoogleSiteTag(f)"
   ]
  },
  {
   "cell_type": "code",
   "execution_count": 8,
   "metadata": {},
   "outputs": [
    {
     "name": "stdout",
     "output_type": "stream",
     "text": [
      "Scrambles completed in 0.31 seconds\n"
     ]
    }
   ],
   "source": [
    "pc2 = time.perf_counter()\n",
    "print(\"Scrambles completed in %0.2f seconds\" % (pc2 - pc1))"
   ]
  },
  {
   "cell_type": "markdown",
   "metadata": {
    "collapsed": true
   },
   "source": [
    "## All Done!"
   ]
  }
 ],
 "metadata": {
  "kernelspec": {
   "display_name": "Python 3",
   "language": "python",
   "name": "python3"
  },
  "language_info": {
   "codemirror_mode": {
    "name": "ipython",
    "version": 3
   },
   "file_extension": ".py",
   "mimetype": "text/x-python",
   "name": "python",
   "nbconvert_exporter": "python",
   "pygments_lexer": "ipython3",
   "version": "3.7.3"
  }
 },
 "nbformat": 4,
 "nbformat_minor": 1
}
