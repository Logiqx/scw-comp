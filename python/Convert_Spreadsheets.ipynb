{
 "cells": [
  {
   "cell_type": "markdown",
   "metadata": {},
   "source": [
    "# Senior Cubers Worldwide - Weekly Competition\n",
    "\n",
    "Created by Michael George (AKA Logiqx)\n",
    "\n",
    "Website: https://logiqx.github.io/scw-comp/"
   ]
  },
  {
   "cell_type": "markdown",
   "metadata": {},
   "source": [
    "## Initialisation\n",
    "\n",
    "Basic approach to determine the project directory"
   ]
  },
  {
   "cell_type": "code",
   "execution_count": 1,
   "metadata": {},
   "outputs": [],
   "source": [
    "import os, sys\n",
    "\n",
    "projdir = os.path.realpath(os.path.join(sys.path[0], '..'))"
   ]
  },
  {
   "cell_type": "markdown",
   "metadata": {},
   "source": [
    "## Supported Events\n",
    "\n",
    "Supported events"
   ]
  },
  {
   "cell_type": "code",
   "execution_count": 2,
   "metadata": {},
   "outputs": [],
   "source": [
    "events = \\\n",
    "{\n",
    "    '2x2x2': '2x2x2',\n",
    "    '3x3x3':'3x3x3',\n",
    "    '4x4x4': '4x4x4',\n",
    "    '5x5x5': '5x5x5',\n",
    "    '6x6x6':'6x6x6',\n",
    "    '7x7x7': '7x7x7',\n",
    "    'oh': '3x3x3 One-Handed',\n",
    "    'mega': 'Megaminx',\n",
    "    '3bld': '3x3x3 Blindfolded',\n",
    "    '4bld': '4x4x4 Blindfolded',\n",
    "    '5bld': '5x5x5 Blindfolded',\n",
    "    'fmc': '3x3x3 Fewest Moves'\n",
    "}"
   ]
  },
  {
   "cell_type": "markdown",
   "metadata": {},
   "source": [
    "## Name Mappings\n",
    "\n",
    "Function to ensure a standard name"
   ]
  },
  {
   "cell_type": "code",
   "execution_count": 3,
   "metadata": {},
   "outputs": [],
   "source": [
    "nameMap = {\n",
    "    'Goho Choi': 'Go-ho Choi',\n",
    "    'Rob Summerfield': 'Robert Summerfield',\n",
    "    'Shawn Boucke': 'Shawn Boucké',\n",
    "    'Tim Salay': 'Timothy Salay'\n",
    "}\n",
    "\n",
    "def getCorrectName(name):\n",
    "    '''Handle people who regularly enter their name differently'''\n",
    "    \n",
    "    if name in nameMap:\n",
    "        return nameMap[name]\n",
    "    else:\n",
    "        return name"
   ]
  },
  {
   "cell_type": "markdown",
   "metadata": {},
   "source": [
    "## Formatting Functions\n",
    "\n",
    "Functions to convert results to and from seconds or display an age category"
   ]
  },
  {
   "cell_type": "code",
   "execution_count": 4,
   "metadata": {},
   "outputs": [],
   "source": [
    "def numSeconds(value):\n",
    "    '''Convert float or string to number of seconds - e.g. 1:05.31 returns 65.31'''   \n",
    "    \n",
    "    if isinstance(value, float):\n",
    "        return round(value, 2)\n",
    "    else:\n",
    "        value = value.replace(',', '.')\n",
    "        if ':' in value:\n",
    "            parts = value.split(':')\n",
    "            return round(int(parts[0]) * 60 + float(parts[1]), 2)\n",
    "        elif '.' in value:\n",
    "            return round(float(value), 2)\n",
    "        elif 'n/a' in value.lower():\n",
    "            return 0\n",
    "        elif 'dnf' in value.lower():\n",
    "            return -1\n",
    "        elif 'dns' in value.lower():\n",
    "            return -2\n",
    "        else:\n",
    "            return None\n",
    "\n",
    "\n",
    "def formatResult(value, eventName):\n",
    "    '''Convert number of seconds to displayable time - e.g. 65.31 returns 1:05.31'''\n",
    "    \n",
    "    if value is not None:\n",
    "        if value > 0:\n",
    "            if eventName == 'fmc':\n",
    "                return '{:d}'.format(int(value))\n",
    "            else:\n",
    "                if value > 60:\n",
    "                    return '{:d}:{:05.2f}'.format(int(value // 60), value - int(value // 60) * 60)\n",
    "                else:\n",
    "                    return '{:.2f}'.format(value)\n",
    "        else:\n",
    "            if value == 0:\n",
    "                return '-'\n",
    "            elif value == -1:\n",
    "                return 'DNF'\n",
    "            elif value == -2:\n",
    "                return 'DNS'\n",
    "            else:\n",
    "                return '?'\n",
    "    else:\n",
    "        return ''\n",
    "\n",
    "\n",
    "def interpretAge(age):\n",
    "    '''Interpret age, however it is written and return an integer'''\n",
    "    \n",
    "    age = age.lower()\n",
    "    if 'under' in age:\n",
    "        age = int(age.replace('under', '').replace(' ', '')) - 10\n",
    "    elif 'over' in age:\n",
    "        age = int(age.replace('over', '').replace(' ', ''))\n",
    "    elif '<' in age:\n",
    "        age = int(age.replace('<', '').replace(' ', '')) - 10\n",
    "    elif '>' in age:\n",
    "        age = int(age.replace('>', '').replace(' ', ''))\n",
    "    else:\n",
    "        age = int(age.replace('+', ''))\n",
    "        \n",
    "    return age\n",
    "\n",
    "    \n",
    "def formatAge(age):\n",
    "    '''Format age for report'''\n",
    "    \n",
    "    if age < 40:\n",
    "        return '<{}'.format(age + 10)\n",
    "    else:\n",
    "        return '{}+'.format(age)\n",
    "\n",
    "\n",
    "def formatFacebookLink(link):\n",
    "    '''Change mobile links to regular Facebook link'''\n",
    "    \n",
    "    if link:\n",
    "        if '//m.' in link:\n",
    "            link = link.replace('//m.', '//www.')\n",
    "        if '?view=permalink&id=' in link:\n",
    "            link = link.replace('?view=permalink&id=', '/permalink/')\n",
    "        if '?' in link:\n",
    "            link = link[:link.find('?')]\n",
    "        if not link.endswith('/'):\n",
    "            link = link + '/'\n",
    "\n",
    "    return link"
   ]
  },
  {
   "cell_type": "markdown",
   "metadata": {},
   "source": [
    "## Generic Class\n",
    "\n",
    "Generic class to ensure that all custom classes are printable"
   ]
  },
  {
   "cell_type": "code",
   "execution_count": 5,
   "metadata": {},
   "outputs": [],
   "source": [
    "class Printable:\n",
    "    def __repr__(self):\n",
    "        return str(self.__class__) + \": \" + str(self.__dict__)\n",
    "\n",
    "    def __str__(self):\n",
    "        return str(self.__class__) + \": \" + str(self.__dict__)"
   ]
  },
  {
   "cell_type": "markdown",
   "metadata": {},
   "source": [
    "## Spreadsheet Class\n",
    "\n",
    "Class to parse result spreadsheets"
   ]
  },
  {
   "cell_type": "code",
   "execution_count": 6,
   "metadata": {},
   "outputs": [],
   "source": [
    "from xlrd import open_workbook\n",
    "from datetime import datetime\n",
    "\n",
    "import csv\n",
    "\n",
    "class Spreadsheet(Printable):\n",
    "    def __init__(self, xlsx):\n",
    "        self.xlsx = xlsx\n",
    "        self.date = os.path.basename(os.path.dirname(xlsx))\n",
    "        self.events = {}\n",
    "\n",
    "      \n",
    "    def processLegacySheet(self, sheet):\n",
    "        '''Process a sheet which was filled in by participants'''\n",
    "\n",
    "        eventName = sheet.name.lower()\n",
    "        columnNames = []\n",
    "        rows = []\n",
    "\n",
    "        for rowNo in range(sheet.nrows):\n",
    "\n",
    "            # Process header row\n",
    "            if rowNo == 2:\n",
    "                for colNo in range(sheet.ncols):\n",
    "                    value = sheet.cell(rowNo, colNo).value.strip()\n",
    "                    \n",
    "                    # Simple string matches\n",
    "                    if value in ('Name', 'Age', 'Result'):\n",
    "                        columnNames.append(value)\n",
    "                    # Simple substring matches\n",
    "                    elif 'Ao5' in value or 'Mo3' in value or 'Best' in value or value.startswith('Solve'):\n",
    "                        columnNames.append(value)\n",
    "                    # Substituted substring match #1\n",
    "                    elif 'link' in value.lower():\n",
    "                        columnNames.append('Link')\n",
    "                    # Substituted substring match #2\n",
    "                    elif value.startswith('Comment'):\n",
    "                        columnNames.append('Comment')\n",
    "                    # Columns to ignore\n",
    "                    elif value.startswith('Pos') or value.startswith('Award') or value == '':\n",
    "                        columnNames.append(None)\n",
    "                    # Report any other columns\n",
    "                    else:\n",
    "                        print('WARNING: Unexpected field \"{}\" in {} ({})'.format(value, sheet.name, self.date))\n",
    "\n",
    "                row = []\n",
    "                for columnName in columnNames:\n",
    "                    if columnName:\n",
    "                        row.append(columnName)\n",
    "                rows.append(row)\n",
    "\n",
    "            # Process result row - must be after header on row 3\n",
    "            elif rowNo >= 3:\n",
    "                row = []\n",
    "                for colNo in range(sheet.ncols):\n",
    "                    if columnNames[colNo]:\n",
    "                        fieldValue = sheet.cell(rowNo, colNo).value\n",
    "                        if isinstance(fieldValue, str):\n",
    "                            fieldValue = fieldValue.strip()\n",
    "                        \n",
    "                        # Standardise name\n",
    "                        if columnNames[colNo] == 'Age':\n",
    "                            try:\n",
    "                                fieldValue = formatAge(interpretAge(fieldValue))\n",
    "                            except:\n",
    "                                print('ERROR: Age \"{}\" in {} ({})'.format(value, sheet.name, self.date))\n",
    "                                raise\n",
    "\n",
    "                        # Standardise result\n",
    "                        elif 'Ao5' in columnNames[colNo] or 'Mo3' in columnNames[colNo] \\\n",
    "                                or 'Best' in columnNames[colNo] or 'Result' in columnNames[colNo] \\\n",
    "                                or columnNames[colNo].startswith('Solve'):\n",
    "                            try:\n",
    "                                fieldValue = formatResult(numSeconds(fieldValue), eventName)\n",
    "                            except:\n",
    "                                print('ERROR: Result \"{}\" in {} ({})'.format(value, sheet.name, self.date))\n",
    "                                raise\n",
    "\n",
    "                        # Standardise link\n",
    "                        elif columnNames[colNo] == 'Link':\n",
    "                            try:\n",
    "                                fieldValue = formatFacebookLink(fieldValue)\n",
    "                                if '/permalink/' not in fieldValue and '/videos/' not in fieldValue:\n",
    "                                    fieldValue = ''\n",
    "                            except:\n",
    "                                print('ERROR: Link \"{}\" in {} ({})'.format(value, sheet.name, self.date))\n",
    "                                raise\n",
    "\n",
    "                        row.append(fieldValue)\n",
    "                rows.append(row)\n",
    "\n",
    "        fn = os.path.join(os.path.dirname(xlsx), eventName + '.csv')\n",
    "        with open(fn, 'w') as outfile:\n",
    "            csvWriter = csv.writer(outfile, quoting = csv.QUOTE_MINIMAL, lineterminator = os.linesep)\n",
    "            csvWriter.writerows(rows)\n",
    "\n",
    "\n",
    "    def processFormsSheet(self, sheet):\n",
    "        '''Process a sheet which was filled in by Google Forms'''\n",
    "\n",
    "\n",
    "    def processSheets(self, latest):\n",
    "        '''Process a spreadsheet which has been downloaded from Google Sheets'''\n",
    "\n",
    "        wb = open_workbook(self.xlsx)\n",
    "\n",
    "        for sheet in wb.sheets():\n",
    "            if sheet.name.lower() in events:\n",
    "                self.processLegacySheet(sheet)\n",
    "            elif sheet.name.startswith('Form Responses'):\n",
    "                self.processFormsSheet(sheet)"
   ]
  },
  {
   "cell_type": "markdown",
   "metadata": {},
   "source": [
    "## Main Code\n",
    "\n",
    "Process all competitions"
   ]
  },
  {
   "cell_type": "code",
   "execution_count": 7,
   "metadata": {},
   "outputs": [],
   "source": [
    "import glob\n",
    "import time\n",
    "\n",
    "pc1 = time.perf_counter()"
   ]
  },
  {
   "cell_type": "code",
   "execution_count": 8,
   "metadata": {},
   "outputs": [],
   "source": [
    "# Process spreadsheets\n",
    "\n",
    "datePattern = '[0-9][0-9][0-9][0-9]-[0-9][0-9]-[0-9][0-9]'\n",
    "xlsxPattern = '*.xlsx'\n",
    "\n",
    "persons = {}\n",
    "competitions = {}\n",
    "\n",
    "dataFiles = glob.glob(os.path.join(projdir, 'data', datePattern, xlsxPattern))\n",
    "latest = False\n",
    "\n",
    "for xlsx in dataFiles:\n",
    "    spreadsheet = Spreadsheet(xlsx)\n",
    "    if xlsx == dataFiles[-1]:\n",
    "        latest = True\n",
    "    spreadsheet.processSheets(latest)"
   ]
  },
  {
   "cell_type": "code",
   "execution_count": 9,
   "metadata": {},
   "outputs": [
    {
     "name": "stdout",
     "output_type": "stream",
     "text": [
      "Conversion completed in 13.11 seconds\n"
     ]
    }
   ],
   "source": [
    "pc2 = time.perf_counter()\n",
    "print(\"Conversion completed in %0.2f seconds\" % (pc2 - pc1))"
   ]
  },
  {
   "cell_type": "markdown",
   "metadata": {
    "collapsed": true
   },
   "source": [
    "## All Done!"
   ]
  }
 ],
 "metadata": {
  "kernelspec": {
   "display_name": "Python 3",
   "language": "python",
   "name": "python3"
  },
  "language_info": {
   "codemirror_mode": {
    "name": "ipython",
    "version": 3
   },
   "file_extension": ".py",
   "mimetype": "text/x-python",
   "name": "python",
   "nbconvert_exporter": "python",
   "pygments_lexer": "ipython3",
   "version": "3.7.3"
  }
 },
 "nbformat": 4,
 "nbformat_minor": 1
}
